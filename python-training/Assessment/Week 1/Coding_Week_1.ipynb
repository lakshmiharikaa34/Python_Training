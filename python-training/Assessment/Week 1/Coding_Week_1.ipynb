{
 "cells": [
  {
   "cell_type": "markdown",
   "id": "6346abc0",
   "metadata": {},
   "source": [
    "1.  Write a function that takes two numbers as input and returns their sum."
   ]
  },
  {
   "cell_type": "code",
   "execution_count": 3,
   "id": "cfa53857",
   "metadata": {},
   "outputs": [
    {
     "name": "stdout",
     "output_type": "stream",
     "text": [
      "21.0\n"
     ]
    }
   ],
   "source": [
    "def sum_of_two_num(first_num,second_num):\n",
    "    return first_num + second_num\n",
    "\n",
    "try:\n",
    "    first_num = float(input(\"Enter the first_num:\"))\n",
    "    second_num = float(input(\"Enter the second_num:\"))\n",
    "    print(sum_of_two_num(first_num,second_num))\n",
    "except:\n",
    "    print(\"Enter only int or float values\")"
   ]
  },
  {
   "cell_type": "markdown",
   "id": "ff1d0638",
   "metadata": {},
   "source": [
    "2.  Write a Python program that checks whether a number is even or odd using a function.\n"
   ]
  },
  {
   "cell_type": "code",
   "execution_count": 6,
   "id": "bd78ca99",
   "metadata": {},
   "outputs": [
    {
     "name": "stdout",
     "output_type": "stream",
     "text": [
      "Even\n"
     ]
    }
   ],
   "source": [
    "def num_is_even_odd(num):\n",
    "    if num % 2 == 0:\n",
    "        return \"Even\"\n",
    "    else:\n",
    "        return \"Odd\"\n",
    "    \n",
    "try:\n",
    "    num = int(input(\"Enter the num:\"))\n",
    "    print(num_is_even_odd(num))\n",
    "except:\n",
    "    print(\"Enter only int or float values\")"
   ]
  },
  {
   "cell_type": "code",
   "execution_count": null,
   "id": "3f6308f5",
   "metadata": {},
   "outputs": [],
   "source": []
  }
 ],
 "metadata": {
  "kernelspec": {
   "display_name": ".venv",
   "language": "python",
   "name": "python3"
  },
  "language_info": {
   "codemirror_mode": {
    "name": "ipython",
    "version": 3
   },
   "file_extension": ".py",
   "mimetype": "text/x-python",
   "name": "python",
   "nbconvert_exporter": "python",
   "pygments_lexer": "ipython3",
   "version": "3.13.3"
  }
 },
 "nbformat": 4,
 "nbformat_minor": 5
}
