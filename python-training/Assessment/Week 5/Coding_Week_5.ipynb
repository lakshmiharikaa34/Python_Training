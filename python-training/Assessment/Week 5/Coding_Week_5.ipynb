{
 "cells": [
  {
   "cell_type": "markdown",
   "id": "cb79c238",
   "metadata": {},
   "source": [
    "#### 1.  Write a Python function that reads a file and prints its content.\n"
   ]
  },
  {
   "cell_type": "code",
   "execution_count": 1,
   "id": "c9652533",
   "metadata": {},
   "outputs": [
    {
     "name": "stdout",
     "output_type": "stream",
     "text": [
      "Hi! I'm Lakshmi Harika\n"
     ]
    }
   ],
   "source": [
    "def read_and_print_file(path):\n",
    "    try:\n",
    "        with open(path, 'r') as f:\n",
    "            content = f.read()\n",
    "            print(content)\n",
    "    except FileNotFoundError:\n",
    "        print(f\"Error: The file '{path}' not found.\")\n",
    "\n",
    "read_and_print_file(r\"C:\\Users\\CP_LPT-44\\Desktop\\Python_Assesments\\python-training\\Assessment\\harika.txt\")\n"
   ]
  },
  {
   "cell_type": "markdown",
   "id": "33ac7b01",
   "metadata": {},
   "source": [
    "#### 2.  Write a class `Rectangle` with `length` and `width`, and a method to calculate area. Create an object and show usage.\n"
   ]
  },
  {
   "cell_type": "code",
   "execution_count": null,
   "id": "ee5e80b8",
   "metadata": {},
   "outputs": [],
   "source": [
    "class Rectangle:\n",
    "    def __init__(self, length, width):\n",
    "        self.length = length\n",
    "        self.width = width\n",
    "\n",
    "    def area(self):\n",
    "        return self.length * self.width\n",
    "\n",
    "length = float(input(\"Enter the length of the rectangle: \"))\n",
    "width = float(input(\"Enter the width of the rectangle: \"))\n",
    "\n",
    "rect = Rectangle(length, width)\n",
    "print(\"Area of rectangle:\", rect.area())"
   ]
  },
  {
   "cell_type": "markdown",
   "id": "c39b60cd",
   "metadata": {},
   "source": [
    "#### 3.  Write a unit test using `unittest` module to test a function `add(a, b)` that returns the sum of two numbers.\n"
   ]
  },
  {
   "cell_type": "code",
   "execution_count": null,
   "id": "33e11689",
   "metadata": {},
   "outputs": [],
   "source": [
    "import unittest\n",
    "\n",
    "def add(a, b):\n",
    "    return a + b\n",
    "\n",
    "class TestAdd(unittest.TestCase):\n",
    "    def test_add_positive_num(self):\n",
    "        self.assertEqual(add(2, 3), 5)\n",
    "\n",
    "    def test_add_negative_num(self):\n",
    "        self.assertEqual(add(-1, -2), -3)\n",
    "\n",
    "    def test_add_mixed_num(self):\n",
    "        self.assertEqual(add(5, -3), 2)\n",
    "\n",
    "    def test_add_zero(self):\n",
    "        self.assertEqual(add(0, 5), 5)\n",
    "\n",
    "unittest.main(argv=['first-arg-is-ignored'], exit=False)"
   ]
  },
  {
   "cell_type": "code",
   "execution_count": null,
   "id": "765e1a37",
   "metadata": {},
   "outputs": [],
   "source": []
  }
 ],
 "metadata": {
  "kernelspec": {
   "display_name": ".venv",
   "language": "python",
   "name": "python3"
  },
  "language_info": {
   "codemirror_mode": {
    "name": "ipython",
    "version": 3
   },
   "file_extension": ".py",
   "mimetype": "text/x-python",
   "name": "python",
   "nbconvert_exporter": "python",
   "pygments_lexer": "ipython3",
   "version": "3.13.3"
  }
 },
 "nbformat": 4,
 "nbformat_minor": 5
}
