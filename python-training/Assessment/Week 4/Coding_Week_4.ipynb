{
 "cells": [
  {
   "cell_type": "markdown",
   "id": "2e89c647",
   "metadata": {},
   "source": [
    "#### 1.  Write a list comprehension to generate a list of squares from 1 to 10.\n",
    "\n",
    "Example 1:\n",
    "Input: Range = 1 to 10\n",
    "Output: [1, 4, 9, 16, 25, 36, 49, 64, 81, 100]\n",
    "\n",
    "Example 2:\n",
    "Input: Range = 1 to 5\n",
    "Output: [1, 4, 9, 16, 25]\n",
    "\n",
    "Example 3:\n",
    "Input: Range = 3 to 6\n",
    "Output: [9, 16, 25, 36]\n"
   ]
  },
  {
   "cell_type": "code",
   "execution_count": 12,
   "id": "15a2d8e5",
   "metadata": {},
   "outputs": [
    {
     "name": "stdout",
     "output_type": "stream",
     "text": [
      "[1, 4, 9, 16, 25, 36, 49, 64, 81, 100]\n"
     ]
    }
   ],
   "source": [
    "nums = list(map(int, input(\"Enter the numbers:\").split()))\n",
    "squares = [x**2 for x in nums]\n",
    "print(squares)"
   ]
  },
  {
   "cell_type": "markdown",
   "id": "53d34e12",
   "metadata": {},
   "source": [
    "#### 2.  Write a function that takes a list of numbers and returns their sum using enumerate (do not use sum()).\n",
    "\n",
    "Example 1:\n",
    "Input: [1, 2, 3, 4]\n",
    "Output: 10\n",
    "\n",
    "Example 2:\n",
    "Input: [5, 10, 15]\n",
    "Output: 30\n",
    "\n",
    "Example 3:\n",
    "Input: [-1, 0, 1]\n",
    "Output: 0\n"
   ]
  },
  {
   "cell_type": "code",
   "execution_count": 13,
   "id": "c1bdc8e3",
   "metadata": {},
   "outputs": [
    {
     "data": {
      "text/plain": [
       "51"
      ]
     },
     "execution_count": 13,
     "metadata": {},
     "output_type": "execute_result"
    }
   ],
   "source": [
    "def list_of_num(num):\n",
    "    total = 0\n",
    "    for index, value in enumerate(num):\n",
    "        total += value\n",
    "    return total\n",
    "\n",
    "nums = list(map(int, input(\"Enter the numbers:\").split()))\n",
    "list_of_num(nums)"
   ]
  },
  {
   "cell_type": "markdown",
   "id": "12ab81b9",
   "metadata": {},
   "source": [
    "#### 3.  Write a function that takes another function and returns a new function that logs input and output using decorators and f-strings.\n",
    "\n",
    "Example 1:\n",
    "Input: logged_add([3, 5])\n",
    "Output: 8\n",
    "\n",
    "Example 2:\n",
    "Input: logged_concat([\"Hello\", \"World\"])\n",
    "Output: \"HelloWorld\"\n",
    "\n",
    "Example 3:\n",
    "Input: logged_multiply([4, 2])\n",
    "Output: 8\n"
   ]
  },
  {
   "cell_type": "code",
   "execution_count": 10,
   "id": "18b0f192",
   "metadata": {},
   "outputs": [
    {
     "name": "stdout",
     "output_type": "stream",
     "text": [
      "Input: (3, 5), Output: 8\n",
      "Input: ('Hello', 'World'), Output: HelloWorld\n",
      "Input: (4, 2), Output: 8\n"
     ]
    },
    {
     "data": {
      "text/plain": [
       "8"
      ]
     },
     "execution_count": 10,
     "metadata": {},
     "output_type": "execute_result"
    }
   ],
   "source": [
    "def log_input_output(func):\n",
    "    def wrapper(*args):\n",
    "        result = func(*args)\n",
    "        print(f\"Input: {args}, Output: {result}\")\n",
    "        return result\n",
    "    return wrapper\n",
    "\n",
    "@log_input_output\n",
    "def add_numbers(*args):\n",
    "    return sum(args)\n",
    "\n",
    "@log_input_output\n",
    "def concat_strings(*args):\n",
    "    return ''.join(args)\n",
    "\n",
    "@log_input_output\n",
    "def multiply_numbers(*args):\n",
    "    result = 1\n",
    "    for num in args:\n",
    "        result *= num\n",
    "    return result\n",
    "\n",
    "logged_add = add_numbers\n",
    "logged_concat = concat_strings\n",
    "logged_multiply = multiply_numbers\n",
    "\n",
    "logged_add(3, 5)\n",
    "logged_concat(\"Hello\", \"World\")\n",
    "logged_multiply(4, 2)\n"
   ]
  },
  {
   "cell_type": "code",
   "execution_count": null,
   "id": "80c9a7e0",
   "metadata": {},
   "outputs": [],
   "source": []
  }
 ],
 "metadata": {
  "kernelspec": {
   "display_name": ".venv",
   "language": "python",
   "name": "python3"
  },
  "language_info": {
   "codemirror_mode": {
    "name": "ipython",
    "version": 3
   },
   "file_extension": ".py",
   "mimetype": "text/x-python",
   "name": "python",
   "nbconvert_exporter": "python",
   "pygments_lexer": "ipython3",
   "version": "3.13.3"
  }
 },
 "nbformat": 4,
 "nbformat_minor": 5
}
