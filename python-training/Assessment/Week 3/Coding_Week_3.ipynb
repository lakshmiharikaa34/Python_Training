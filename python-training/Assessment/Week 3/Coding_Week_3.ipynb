{
 "cells": [
  {
   "cell_type": "markdown",
   "id": "54241596",
   "metadata": {},
   "source": [
    "#### 1. Write a regex to find all digits in a string and return them as a list."
   ]
  },
  {
   "cell_type": "code",
   "execution_count": 1,
   "id": "fdc3babd",
   "metadata": {},
   "outputs": [],
   "source": [
    "import re"
   ]
  },
  {
   "cell_type": "code",
   "execution_count": 3,
   "id": "878166ff",
   "metadata": {},
   "outputs": [
    {
     "name": "stdout",
     "output_type": "stream",
     "text": [
      "The Entered String is:se435\n"
     ]
    },
    {
     "data": {
      "text/plain": [
       "['4', '3', '5']"
      ]
     },
     "execution_count": 3,
     "metadata": {},
     "output_type": "execute_result"
    }
   ],
   "source": [
    "str1 = input(\"Enter the String:\")\n",
    "print(f\"The Entered String is:{str1}\")\n",
    "re.findall(r\"\\d\",str1)"
   ]
  },
  {
   "cell_type": "markdown",
   "id": "da8ba734",
   "metadata": {},
   "source": [
    "#### 2. Write a regex function that replaces all multiple spaces in a string with a single space."
   ]
  },
  {
   "cell_type": "code",
   "execution_count": 7,
   "id": "c70ba4ae",
   "metadata": {},
   "outputs": [
    {
     "name": "stdout",
     "output_type": "stream",
     "text": [
      "The Entered String is:       w   e    t66         34 s d   3   1\n"
     ]
    },
    {
     "data": {
      "text/plain": [
       "' w e t66 34 s d 3 1'"
      ]
     },
     "execution_count": 7,
     "metadata": {},
     "output_type": "execute_result"
    }
   ],
   "source": [
    "str1 = input(\"Enter the String:\")\n",
    "print(f\"The Entered String is:{str1}\")\n",
    "re.sub(r\"\\s+\",\" \",str1)"
   ]
  },
  {
   "cell_type": "markdown",
   "id": "9a7aae47",
   "metadata": {},
   "source": [
    "#### 3. Write a regex pattern to extract all valid email addresses from a given text."
   ]
  },
  {
   "cell_type": "code",
   "execution_count": 10,
   "id": "551bd655",
   "metadata": {},
   "outputs": [
    {
     "name": "stdout",
     "output_type": "stream",
     "text": [
      "The Entered String is:cfgyuhjbn fgvyu@gmail.com fghji dfgh@yahoo.in\n"
     ]
    },
    {
     "data": {
      "text/plain": [
       "['fgvyu@gmail.com', 'dfgh@yahoo.in']"
      ]
     },
     "execution_count": 10,
     "metadata": {},
     "output_type": "execute_result"
    }
   ],
   "source": [
    "text1 = input(\"Enter the String:\")\n",
    "print(f\"The Entered String is:{text1}\")\n",
    "pattern = r\"[a-zA-Z0-9._%+-]+@[a-zA-Z0-9-]+\\.[a-zA-Z]{2,}\"\n",
    "re.findall(pattern,text1)"
   ]
  },
  {
   "cell_type": "code",
   "execution_count": null,
   "id": "78645130",
   "metadata": {},
   "outputs": [],
   "source": []
  }
 ],
 "metadata": {
  "kernelspec": {
   "display_name": ".venv",
   "language": "python",
   "name": "python3"
  },
  "language_info": {
   "codemirror_mode": {
    "name": "ipython",
    "version": 3
   },
   "file_extension": ".py",
   "mimetype": "text/x-python",
   "name": "python",
   "nbconvert_exporter": "python",
   "pygments_lexer": "ipython3",
   "version": "3.13.3"
  }
 },
 "nbformat": 4,
 "nbformat_minor": 5
}
