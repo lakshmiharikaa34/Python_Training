{
 "cells": [
  {
   "cell_type": "markdown",
   "id": "e1473acc",
   "metadata": {},
   "source": [
    "#### 1.  Write a function that uses a lambda to double a number.\n",
    "\n",
    "Example 1:\n",
    "Input: 5\n",
    "Output: 10\n",
    "\n",
    "Example 2:\n",
    "Input: 12\n",
    "Output: 24\n",
    "\n",
    "Example 3:\n",
    "Input: -7\n",
    "Output: -14"
   ]
  },
  {
   "cell_type": "code",
   "execution_count": 8,
   "id": "1292a0ca",
   "metadata": {},
   "outputs": [
    {
     "name": "stdout",
     "output_type": "stream",
     "text": [
      "10.0\n"
     ]
    }
   ],
   "source": [
    "x = float(input(\"Enter the number:\"))\n",
    "double_num = lambda x : x * 2\n",
    "print(double_num(x))"
   ]
  },
  {
   "cell_type": "markdown",
   "id": "af506c68",
   "metadata": {},
   "source": [
    "#### 2. Write a function that takes a list and returns a new list with only even numbers using filter.\n",
    "\n",
    "Example 1:\n",
    "Input: [1, 2, 3, 4, 5, 6]\n",
    "Output: [2, 4, 6]\n",
    "\n",
    "Example 2:\n",
    "Input: [11, 13, 15, 18, 20]\n",
    "Output: [18, 20]\n",
    "\n",
    "Example 3:\n",
    "Input: [7, 9, 21]\n",
    "Output: []"
   ]
  },
  {
   "cell_type": "code",
   "execution_count": 3,
   "id": "0d691a8a",
   "metadata": {},
   "outputs": [
    {
     "data": {
      "text/plain": [
       "[2, 4, 6]"
      ]
     },
     "execution_count": 3,
     "metadata": {},
     "output_type": "execute_result"
    }
   ],
   "source": [
    "list1 = list(map(int, input(\"Enter the numbers:\").split()))\n",
    "even_num = list(filter(lambda x : x%2 == 0,list1))\n",
    "even_num"
   ]
  },
  {
   "cell_type": "markdown",
   "id": "6dc7c0f5",
   "metadata": {},
   "source": [
    "#### 3.  Write a decorator that times the execution of a function and prints the time taken.\n",
    "\n",
    "Example 1:\n",
    "A function that adds numbers from 1 to 1,000,000\n",
    "Output: Time taken: ~0.05 seconds\n",
    "\n",
    "Example 2:\n",
    "A function that sleeps for 2 seconds\n",
    "Output: Time taken: ~2.00 seconds\n",
    "\n",
    "Example 3:\n",
    "A function that multiplies two numbers (e.g., 10 * 20)\n",
    "Output: Time taken: ~0.00001 seconds"
   ]
  },
  {
   "cell_type": "code",
   "execution_count": 15,
   "id": "6d663783",
   "metadata": {},
   "outputs": [
    {
     "name": "stdout",
     "output_type": "stream",
     "text": [
      "Time taken by 'add_numbers': 0.06506 seconds\n",
      "\n",
      "Time taken by 'sleep': 2.00057 seconds\n",
      "\n",
      "Time taken by 'multiply': 0.00000 seconds\n",
      "\n"
     ]
    }
   ],
   "source": [
    "import time\n",
    "\n",
    "def timer_decorator(func):\n",
    "    def wrapper(*args, **kwargs):\n",
    "        start_time = time.time()\n",
    "        result = func(*args, **kwargs)\n",
    "        end_time = time.time()\n",
    "        print(f\"Time taken by '{func.__name__}': {end_time - start_time:.5f} seconds\\n\")\n",
    "        return result\n",
    "    return wrapper\n",
    "\n",
    "@timer_decorator\n",
    "def add_numbers():\n",
    "    sum = 0\n",
    "    for i in range(1, 1000001):\n",
    "        sum += i\n",
    "\n",
    "@timer_decorator\n",
    "def sleep():\n",
    "    time.sleep(2)\n",
    "\n",
    "@timer_decorator\n",
    "def multiply(a, b):\n",
    "    result = a * b\n",
    "\n",
    "add_numbers()\n",
    "sleep()\n",
    "multiply(10, 20)\n"
   ]
  },
  {
   "cell_type": "markdown",
   "id": "646d841a",
   "metadata": {},
   "source": [
    "#### 4. Write a recursive function that takes a number n and returns a list of all numbers from n down to 1 and then back up to n.\n",
    "\n",
    "Example 1:\n",
    "Input: 3\n",
    "Output: [3, 2, 1, 2, 3]\n",
    "\n",
    "Example 2:\n",
    "Input: 5\n",
    "Output: [5, 4, 3, 2, 1, 2, 3, 4, 5]"
   ]
  },
  {
   "cell_type": "code",
   "execution_count": 17,
   "id": "a58ef5df",
   "metadata": {},
   "outputs": [
    {
     "data": {
      "text/plain": [
       "[3, 2, 1, 2, 3]"
      ]
     },
     "execution_count": 17,
     "metadata": {},
     "output_type": "execute_result"
    }
   ],
   "source": [
    "def list_of_num(n):\n",
    "    if n == 1:\n",
    "        return [1]\n",
    "    else:\n",
    "        return [n] + list_of_num(n - 1) + [n]\n",
    "    \n",
    "list_of_num(3)"
   ]
  },
  {
   "cell_type": "code",
   "execution_count": null,
   "id": "c2b8aed9",
   "metadata": {},
   "outputs": [],
   "source": []
  },
  {
   "cell_type": "code",
   "execution_count": null,
   "id": "3c2399d0",
   "metadata": {},
   "outputs": [],
   "source": []
  }
 ],
 "metadata": {
  "kernelspec": {
   "display_name": ".venv",
   "language": "python",
   "name": "python3"
  },
  "language_info": {
   "codemirror_mode": {
    "name": "ipython",
    "version": 3
   },
   "file_extension": ".py",
   "mimetype": "text/x-python",
   "name": "python",
   "nbconvert_exporter": "python",
   "pygments_lexer": "ipython3",
   "version": "3.13.3"
  }
 },
 "nbformat": 4,
 "nbformat_minor": 5
}
